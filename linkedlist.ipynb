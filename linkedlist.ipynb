{
 "cells": [
  {
   "cell_type": "code",
   "execution_count": 1,
   "metadata": {},
   "outputs": [],
   "source": [
    "class node:\n",
    "    def __init__(self, data):\n",
    "        self.data = data\n",
    "        self.next = None\n",
    "        \n",
    "class linkedlist:\n",
    "    def __init__(self, firstnode=None):\n",
    "        self.head = firstnode\n",
    "        \n",
    "    def prepend(self, newnode):\n",
    "        if self.head is not None:\n",
    "            newnode.next = self.head\n",
    "        self.head = newnode\n",
    "        \n",
    "    def append(self, newnode):\n",
    "        if self.head is None:\n",
    "            self.head = newnode\n",
    "            return\n",
    "        currentnode = self.head\n",
    "        while currentnode.next is not None:\n",
    "            currentnode = currentnode.next\n",
    "        else:\n",
    "            currentnode.next = newnode"
   ]
  },
  {
   "cell_type": "code",
   "execution_count": 2,
   "metadata": {},
   "outputs": [],
   "source": [
    "n1 = node('node1')\n",
    "ll = linkedlist(n1)\n",
    "\n",
    "ll.append(node('node2'))\n",
    "ll.prepend(node('node0'))"
   ]
  },
  {
   "cell_type": "code",
   "execution_count": null,
   "metadata": {},
   "outputs": [],
   "source": []
  },
  {
   "cell_type": "code",
   "execution_count": null,
   "metadata": {},
   "outputs": [],
   "source": []
  }
 ],
 "metadata": {
  "kernelspec": {
   "display_name": "Python 3",
   "language": "python",
   "name": "python3"
  },
  "language_info": {
   "codemirror_mode": {
    "name": "ipython",
    "version": 3
   },
   "file_extension": ".py",
   "mimetype": "text/x-python",
   "name": "python",
   "nbconvert_exporter": "python",
   "pygments_lexer": "ipython3",
   "version": "3.7.1"
  }
 },
 "nbformat": 4,
 "nbformat_minor": 2
}
